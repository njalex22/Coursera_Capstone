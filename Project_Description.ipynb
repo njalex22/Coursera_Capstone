{
 "cells": [
  {
   "cell_type": "markdown",
   "metadata": {},
   "source": [
    "## Introduction ##"
   ]
  },
  {
   "cell_type": "markdown",
   "metadata": {},
   "source": [
    "The audience is a hospitality company that manages many restaurants around the US. This company wants to open a new restaurant and maximize the likelihood of the success of this restaurant. This analysis will recommend a location to open up a restaurant. This project takes on a broad scope in that is considers all major cities in the country. I will first identify the vibrant, up and coming cities as the first filter for narrowing the candidates. Of those cities, I will identify which cities may be underserved, from a gastronomic perspective. Next, I will choose one city, and identify which types of restaurants might add an exciting new element to their restaurant scene. Finally, I will conduct location-based clustering and recommend a specific cluster associated with a location to open in the target city."
   ]
  },
  {
   "cell_type": "markdown",
   "metadata": {},
   "source": [
    "## Data ##"
   ]
  },
  {
   "cell_type": "markdown",
   "metadata": {},
   "source": [
    "Three different data sources will be utilized. First, data from the largest cities in the US is scraped from Wikipedia. Next, the zip codes from the filtered cities is downloaded from a Zip Code API web service. Once all the zip codes for each city have been obtained, they will be appended with their corresponding latitude and longitude. Finally, the venues associated with these zip codes will be extracted from Foursquare. The data from Foursquare will be analyzed to make the final recommendation."
   ]
  },
  {
   "cell_type": "code",
   "execution_count": 4,
   "metadata": {},
   "outputs": [],
   "source": [
    "import pandas as pd\n",
    "import numpy as np\n",
    "import requests\n",
    "import urllib\n",
    "import re\n",
    "from pandas.io.json import json_normalize # tranform JSON file into a pandas dataframe\n",
    "import json # library to handle JSON files\n",
    "from geopy.geocoders import Nominatim\n",
    "import geocoder\n",
    "\n",
    "from IPython.display import display, clear_output\n",
    "from bs4 import BeautifulSoup, SoupStrainer\n",
    "pd.set_option('display.max_colwidth', 60)\n"
   ]
  },
  {
   "cell_type": "markdown",
   "metadata": {},
   "source": [
    "The raw data from Wikipedia is as follows:"
   ]
  },
  {
   "cell_type": "code",
   "execution_count": 2,
   "metadata": {},
   "outputs": [
    {
     "data": {
      "text/html": [
       "<div>\n",
       "<style scoped>\n",
       "    .dataframe tbody tr th:only-of-type {\n",
       "        vertical-align: middle;\n",
       "    }\n",
       "\n",
       "    .dataframe tbody tr th {\n",
       "        vertical-align: top;\n",
       "    }\n",
       "\n",
       "    .dataframe thead th {\n",
       "        text-align: right;\n",
       "    }\n",
       "</style>\n",
       "<table border=\"1\" class=\"dataframe\">\n",
       "  <thead>\n",
       "    <tr style=\"text-align: right;\">\n",
       "      <th></th>\n",
       "      <th>2018rank</th>\n",
       "      <th>City</th>\n",
       "      <th>State[c]</th>\n",
       "      <th>2018estimate</th>\n",
       "      <th>2010Census</th>\n",
       "      <th>Change</th>\n",
       "      <th>2016 land area</th>\n",
       "      <th>2016 land area.1</th>\n",
       "      <th>2016 population density</th>\n",
       "      <th>2016 population density.1</th>\n",
       "      <th>Location</th>\n",
       "    </tr>\n",
       "  </thead>\n",
       "  <tbody>\n",
       "    <tr>\n",
       "      <th>0</th>\n",
       "      <td>1</td>\n",
       "      <td>New York[d]</td>\n",
       "      <td>New York</td>\n",
       "      <td>8398748</td>\n",
       "      <td>8175133</td>\n",
       "      <td>+2.74%</td>\n",
       "      <td>301.5 sq mi</td>\n",
       "      <td>780.9 km2</td>\n",
       "      <td>28,317/sq mi</td>\n",
       "      <td>10,933/km2</td>\n",
       "      <td>40°39′49″N 73°56′19″W﻿ / ﻿40.6635°N 73.9387°W</td>\n",
       "    </tr>\n",
       "    <tr>\n",
       "      <th>1</th>\n",
       "      <td>2</td>\n",
       "      <td>Los Angeles</td>\n",
       "      <td>California</td>\n",
       "      <td>3990456</td>\n",
       "      <td>3792621</td>\n",
       "      <td>+5.22%</td>\n",
       "      <td>468.7 sq mi</td>\n",
       "      <td>1,213.9 km2</td>\n",
       "      <td>8,484/sq mi</td>\n",
       "      <td>3,276/km2</td>\n",
       "      <td>34°01′10″N 118°24′39″W﻿ / ﻿34.0194°N 118.4108°W</td>\n",
       "    </tr>\n",
       "    <tr>\n",
       "      <th>2</th>\n",
       "      <td>3</td>\n",
       "      <td>Chicago</td>\n",
       "      <td>Illinois</td>\n",
       "      <td>2705994</td>\n",
       "      <td>2695598</td>\n",
       "      <td>+0.39%</td>\n",
       "      <td>227.3 sq mi</td>\n",
       "      <td>588.7 km2</td>\n",
       "      <td>11,900/sq mi</td>\n",
       "      <td>4,600/km2</td>\n",
       "      <td>41°50′15″N 87°40′54″W﻿ / ﻿41.8376°N 87.6818°W</td>\n",
       "    </tr>\n",
       "    <tr>\n",
       "      <th>3</th>\n",
       "      <td>4</td>\n",
       "      <td>Houston[3]</td>\n",
       "      <td>Texas</td>\n",
       "      <td>2325502</td>\n",
       "      <td>2100263</td>\n",
       "      <td>+10.72%</td>\n",
       "      <td>637.5 sq mi</td>\n",
       "      <td>1,651.1 km2</td>\n",
       "      <td>3,613/sq mi</td>\n",
       "      <td>1,395/km2</td>\n",
       "      <td>29°47′12″N 95°23′27″W﻿ / ﻿29.7866°N 95.3909°W</td>\n",
       "    </tr>\n",
       "    <tr>\n",
       "      <th>4</th>\n",
       "      <td>5</td>\n",
       "      <td>Phoenix</td>\n",
       "      <td>Arizona</td>\n",
       "      <td>1660272</td>\n",
       "      <td>1445632</td>\n",
       "      <td>+14.85%</td>\n",
       "      <td>517.6 sq mi</td>\n",
       "      <td>1,340.6 km2</td>\n",
       "      <td>3,120/sq mi</td>\n",
       "      <td>1,200/km2</td>\n",
       "      <td>33°34′20″N 112°05′24″W﻿ / ﻿33.5722°N 112.0901°W</td>\n",
       "    </tr>\n",
       "  </tbody>\n",
       "</table>\n",
       "</div>"
      ],
      "text/plain": [
       "   2018rank         City    State[c]  2018estimate  2010Census   Change  \\\n",
       "0         1  New York[d]    New York       8398748     8175133   +2.74%   \n",
       "1         2  Los Angeles  California       3990456     3792621   +5.22%   \n",
       "2         3      Chicago    Illinois       2705994     2695598   +0.39%   \n",
       "3         4   Houston[3]       Texas       2325502     2100263  +10.72%   \n",
       "4         5      Phoenix     Arizona       1660272     1445632  +14.85%   \n",
       "\n",
       "  2016 land area 2016 land area.1 2016 population density  \\\n",
       "0    301.5 sq mi        780.9 km2            28,317/sq mi   \n",
       "1    468.7 sq mi      1,213.9 km2             8,484/sq mi   \n",
       "2    227.3 sq mi        588.7 km2            11,900/sq mi   \n",
       "3    637.5 sq mi      1,651.1 km2             3,613/sq mi   \n",
       "4    517.6 sq mi      1,340.6 km2             3,120/sq mi   \n",
       "\n",
       "  2016 population density.1                                         Location  \n",
       "0                10,933/km2    40°39′49″N 73°56′19″W﻿ / ﻿40.6635°N 73.9387°W  \n",
       "1                 3,276/km2  34°01′10″N 118°24′39″W﻿ / ﻿34.0194°N 118.4108°W  \n",
       "2                 4,600/km2    41°50′15″N 87°40′54″W﻿ / ﻿41.8376°N 87.6818°W  \n",
       "3                 1,395/km2    29°47′12″N 95°23′27″W﻿ / ﻿29.7866°N 95.3909°W  \n",
       "4                 1,200/km2  33°34′20″N 112°05′24″W﻿ / ﻿33.5722°N 112.0901°W  "
      ]
     },
     "execution_count": 2,
     "metadata": {},
     "output_type": "execute_result"
    }
   ],
   "source": [
    "url = 'https://en.wikipedia.org/wiki/List_of_United_States_cities_by_population'\n",
    "session = requests.Session()\n",
    "response = session.get(url, allow_redirects=True)\n",
    "soup = BeautifulSoup(response.content, 'html.parser')\n",
    "\n",
    "df = pd.read_html(url)[4]\n",
    "df.head()"
   ]
  },
  {
   "cell_type": "markdown",
   "metadata": {},
   "source": [
    "The zip code data is extracted from the API as follows:"
   ]
  },
  {
   "cell_type": "code",
   "execution_count": 3,
   "metadata": {},
   "outputs": [
    {
     "data": {
      "text/plain": [
       "['60290',\n",
       " '60601',\n",
       " '60602',\n",
       " '60603',\n",
       " '60604',\n",
       " '60605',\n",
       " '60606',\n",
       " '60607',\n",
       " '60608',\n",
       " '60609',\n",
       " '60610',\n",
       " '60611',\n",
       " '60612',\n",
       " '60613',\n",
       " '60614',\n",
       " '60615',\n",
       " '60616',\n",
       " '60617',\n",
       " '60618',\n",
       " '60619',\n",
       " '60620',\n",
       " '60621',\n",
       " '60622',\n",
       " '60623',\n",
       " '60624',\n",
       " '60625',\n",
       " '60626',\n",
       " '60628',\n",
       " '60629',\n",
       " '60630',\n",
       " '60631',\n",
       " '60632',\n",
       " '60633',\n",
       " '60634',\n",
       " '60636',\n",
       " '60637',\n",
       " '60638',\n",
       " '60639',\n",
       " '60640',\n",
       " '60641',\n",
       " '60642',\n",
       " '60643',\n",
       " '60644',\n",
       " '60645',\n",
       " '60646',\n",
       " '60647',\n",
       " '60649',\n",
       " '60651',\n",
       " '60652',\n",
       " '60653',\n",
       " '60654',\n",
       " '60655',\n",
       " '60656',\n",
       " '60657',\n",
       " '60659',\n",
       " '60660',\n",
       " '60661',\n",
       " '60663',\n",
       " '60664',\n",
       " '60666',\n",
       " '60668',\n",
       " '60669',\n",
       " '60670',\n",
       " '60673',\n",
       " '60674',\n",
       " '60675',\n",
       " '60677',\n",
       " '60678',\n",
       " '60679',\n",
       " '60680',\n",
       " '60681',\n",
       " '60682',\n",
       " '60684',\n",
       " '60685',\n",
       " '60686',\n",
       " '60687',\n",
       " '60688',\n",
       " '60689',\n",
       " '60690',\n",
       " '60691',\n",
       " '60693',\n",
       " '60694',\n",
       " '60695',\n",
       " '60696',\n",
       " '60697',\n",
       " '60699',\n",
       " '60701',\n",
       " '60706',\n",
       " '60707',\n",
       " '60712',\n",
       " '60803',\n",
       " '60804',\n",
       " '60805',\n",
       " '60827']"
      ]
     },
     "execution_count": 3,
     "metadata": {},
     "output_type": "execute_result"
    }
   ],
   "source": [
    "zip_api_key = 'R9D3J1IzH1U8bpB0qIUx2bokJzImwCGcERHGj0QGHAZqwb0ZWbWKhh7t2juEOV9E'\n",
    "call = 'https://www.zipcodeapi.com/rest/{}/city-zips.{}/{}/{}'.format(zip_api_key,'json','Chicago','Illinois')\n",
    "zips = requests.get(call).json()\n",
    "zips['zip_codes']"
   ]
  },
  {
   "cell_type": "markdown",
   "metadata": {},
   "source": [
    "These zip codes are used to extract a latitude and longitude for each zip code using geolocator."
   ]
  },
  {
   "cell_type": "code",
   "execution_count": 6,
   "metadata": {},
   "outputs": [
    {
     "name": "stdout",
     "output_type": "stream",
     "text": [
      "The geograpical coordinate of Chicago Zip Code 60827 are 41.73724645, -87.55118560173352.\n"
     ]
    }
   ],
   "source": [
    "    address = '60827, Chicago, Illinois'\n",
    "\n",
    "    geolocator = Nominatim(user_agent=\"my_application\")\n",
    "    location = geolocator.geocode(address)\n",
    "    latitude = location.latitude\n",
    "    longitude = location.longitude\n",
    "    print('The geograpical coordinate of Chicago Zip Code 60827 are {}, {}.'.format(latitude, longitude))"
   ]
  },
  {
   "cell_type": "markdown",
   "metadata": {},
   "source": [
    "Finally, these coordinates will be used to extract venue information from Foursquare in similar manner conducted in the labs."
   ]
  },
  {
   "cell_type": "code",
   "execution_count": null,
   "metadata": {},
   "outputs": [],
   "source": []
  }
 ],
 "metadata": {
  "kernelspec": {
   "display_name": "Python 3",
   "language": "python",
   "name": "python3"
  },
  "language_info": {
   "codemirror_mode": {
    "name": "ipython",
    "version": 3
   },
   "file_extension": ".py",
   "mimetype": "text/x-python",
   "name": "python",
   "nbconvert_exporter": "python",
   "pygments_lexer": "ipython3",
   "version": "3.7.0"
  }
 },
 "nbformat": 4,
 "nbformat_minor": 2
}
